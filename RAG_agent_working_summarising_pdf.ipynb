{
  "nbformat": 4,
  "nbformat_minor": 0,
  "metadata": {
    "colab": {
      "provenance": [],
      "gpuType": "T4"
    },
    "kernelspec": {
      "name": "python3",
      "display_name": "Python 3"
    },
    "language_info": {
      "name": "python"
    },
    "accelerator": "GPU"
  },
  "cells": [
    {
      "cell_type": "code",
      "source": [
        "!pip install -q transformers accelerate langchain faiss-cpu pypdf sentence-transformers"
      ],
      "metadata": {
        "id": "Gp0VjJnFCh-c"
      },
      "execution_count": null,
      "outputs": []
    },
    {
      "cell_type": "code",
      "source": [
        "!pip install -U langchain langchain-community"
      ],
      "metadata": {
        "id": "55fYaEhk5O0z"
      },
      "execution_count": null,
      "outputs": []
    },
    {
      "cell_type": "code",
      "source": [
        "from langchain.document_loaders import PyPDFLoader\n",
        "\n",
        "# === Load PDF ===\n",
        "pdf_path = \"/content/Stock_Market_Performance_2024.pdf\"  # Update this path after uploading\n",
        "loader = PyPDFLoader(pdf_path)\n",
        "pages = loader.load()"
      ],
      "metadata": {
        "id": "9y_J81wfCmEN"
      },
      "execution_count": null,
      "outputs": []
    },
    {
      "cell_type": "code",
      "source": [
        "import requests\n",
        "print(requests.get(\"https://huggingface.co\").status_code)\n"
      ],
      "metadata": {
        "id": "p7Tky1Yg9117"
      },
      "execution_count": null,
      "outputs": []
    },
    {
      "cell_type": "code",
      "source": [
        "from transformers import AutoTokenizer, AutoModelForSeq2SeqLM, pipeline\n",
        "from langchain.text_splitter import CharacterTextSplitter\n",
        "from langchain.vectorstores import FAISS\n",
        "from langchain.embeddings import HuggingFaceEmbeddings\n",
        "import torch\n",
        "\n",
        "# === Split text into chunks ===\n",
        "text_splitter = CharacterTextSplitter(chunk_size=500, chunk_overlap=100)\n",
        "docs = text_splitter.split_documents(pages)\n",
        "\n",
        "# === Create embeddings and store in FAISS ===\n",
        "embedding_model = HuggingFaceEmbeddings(model_name=\"sentence-transformers/all-MiniLM-L6-v2\")\n",
        "db = FAISS.from_documents(docs, embedding_model)\n",
        "retriever = db.as_retriever()\n",
        "\n",
        "# === Load smaller model (FLAN-T5) ===\n",
        "model_name = \"google/flan-t5-base\"  # or \"google/flan-t5-large\"\n",
        "tokenizer = AutoTokenizer.from_pretrained(model_name)\n",
        "model = AutoModelForSeq2SeqLM.from_pretrained(model_name).to(\"cuda\")\n",
        "\n",
        "qa_pipeline = pipeline(\"text2text-generation\", model=model, tokenizer=tokenizer, max_new_tokens=256, device=0)\n",
        "\n",
        "# === Define simple RAG ===\n",
        "def ask(question):\n",
        "    context_docs = retriever.get_relevant_documents(question)\n",
        "    context = \"\\n\\n\".join([doc.page_content for doc in context_docs[:3]])\n",
        "\n",
        "    prompt = f\"Context: {context}\\n\\nQuestion: {question}\\nAnswer:\"\n",
        "    result = qa_pipeline(prompt)[0][\"generated_text\"]\n",
        "    print(result.strip())\n",
        "\n",
        "# === Example Usage ===\n",
        "ask(\"Summarize the key insights from the stock market PDF.\")"
      ],
      "metadata": {
        "id": "rIKlzVhsAJQV"
      },
      "execution_count": null,
      "outputs": []
    }
  ]
}