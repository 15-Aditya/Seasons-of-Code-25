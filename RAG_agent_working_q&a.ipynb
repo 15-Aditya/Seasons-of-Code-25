{
  "nbformat": 4,
  "nbformat_minor": 0,
  "metadata": {
    "colab": {
      "provenance": [],
      "gpuType": "T4"
    },
    "kernelspec": {
      "name": "python3",
      "display_name": "Python 3"
    },
    "language_info": {
      "name": "python"
    },
    "accelerator": "GPU"
  },
  "cells": [
    {
      "cell_type": "code",
      "source": [
        "!pip install -q transformers accelerate langchain faiss-cpu pypdf sentence-transformers"
      ],
      "metadata": {
        "id": "Gp0VjJnFCh-c"
      },
      "execution_count": null,
      "outputs": []
    },
    {
      "cell_type": "code",
      "source": [
        "!pip install -U langchain langchain-community"
      ],
      "metadata": {
        "id": "55fYaEhk5O0z"
      },
      "execution_count": null,
      "outputs": []
    },
    {
      "cell_type": "code",
      "source": [
        "from langchain.document_loaders import PyPDFLoader\n",
        "\n",
        "# === Load PDF ===\n",
        "pdf_path = \"/content/Stock_Market_Performance_2024.pdf\"  # Update this path after uploading\n",
        "loader = PyPDFLoader(pdf_path)\n",
        "pages = loader.load()"
      ],
      "metadata": {
        "id": "9y_J81wfCmEN"
      },
      "execution_count": null,
      "outputs": []
    },
    {
      "cell_type": "code",
      "source": [
        "import requests\n",
        "print(requests.get(\"https://huggingface.co\").status_code)\n"
      ],
      "metadata": {
        "id": "p7Tky1Yg9117"
      },
      "execution_count": null,
      "outputs": []
    },
    {
      "cell_type": "code",
      "source": [
        "# Install necessary packages if not already installed\n",
        "!pip install -q transformers langchain sentence-transformers faiss-cpu pypdf"
      ],
      "metadata": {
        "id": "LHZi1ludo9Ex"
      },
      "execution_count": null,
      "outputs": []
    },
    {
      "cell_type": "code",
      "source": [
        "# === Import Dependencies ===\n",
        "from transformers import AutoTokenizer, AutoModelForSeq2SeqLM, pipeline\n",
        "from langchain.text_splitter import RecursiveCharacterTextSplitter\n",
        "from langchain.vectorstores import FAISS\n",
        "from langchain.embeddings import HuggingFaceEmbeddings\n",
        "from langchain.document_loaders import PyPDFLoader\n",
        "import torch\n",
        "\n",
        "# === Load and Split PDF ===\n",
        "pdf_path = \"/content/Stock_Market_Performance_2024.pdf\"  # Upload this manually in Colab\n",
        "loader = PyPDFLoader(pdf_path)\n",
        "pages = loader.load()\n",
        "\n",
        "text_splitter = RecursiveCharacterTextSplitter(chunk_size=1000, chunk_overlap=200)\n",
        "docs = text_splitter.split_documents(pages)\n",
        "\n",
        "# === Build Embeddings and Retriever ===\n",
        "embedding_model = HuggingFaceEmbeddings(model_name=\"sentence-transformers/all-MiniLM-L6-v2\")\n",
        "db = FAISS.from_documents(docs, embedding_model)\n",
        "retriever = db.as_retriever(search_kwargs={\"k\": 5})\n",
        "\n",
        "# === Load QA Model ===\n",
        "model_name = \"google/flan-t5-base\"  # Use 'flan-t5-large' if you want slightly better performance\n",
        "tokenizer = AutoTokenizer.from_pretrained(model_name)\n",
        "model = AutoModelForSeq2SeqLM.from_pretrained(model_name).to(\"cuda\" if torch.cuda.is_available() else \"cpu\")\n",
        "\n",
        "qa_pipeline = pipeline(\"text2text-generation\", model=model, tokenizer=tokenizer, max_new_tokens=256, device=0)\n",
        "\n",
        "# === RAG Ask Function ===\n",
        "def ask(question):\n",
        "    context_docs = retriever.get_relevant_documents(question)\n",
        "    context = \"\\n\\n\".join([doc.page_content for doc in context_docs[:3]])\n",
        "    prompt = f\"Context: {context}\\n\\nQuestion: {question}\\nAnswer:\"\n",
        "    result = qa_pipeline(prompt)[0][\"generated_text\"]\n",
        "    print(\"\\n=== ANSWER ===\")\n",
        "    print(result.strip())\n",
        "\n",
        "# === Interactive Loop ===\n",
        "print(\"PDF RAG Chat Ready. Type 'exit' to stop.\")\n",
        "while True:\n",
        "    q = input(\"\\nAsk a question: \")\n",
        "    if q.lower().strip() in ['exit', 'quit']:\n",
        "        break\n",
        "    ask(q)"
      ],
      "metadata": {
        "id": "rIKlzVhsAJQV"
      },
      "execution_count": null,
      "outputs": []
    }
  ]
}